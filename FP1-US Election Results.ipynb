{
 "cells": [
  {
   "cell_type": "code",
   "execution_count": 1,
   "metadata": {
    "ExecuteTime": {
     "end_time": "2020-11-25T23:48:27.970929Z",
     "start_time": "2020-11-25T23:48:25.940899Z"
    }
   },
   "outputs": [],
   "source": [
    "import requests"
   ]
  },
  {
   "cell_type": "code",
   "execution_count": 27,
   "metadata": {
    "ExecuteTime": {
     "end_time": "2020-11-26T00:07:41.854775Z",
     "start_time": "2020-11-26T00:07:41.845763Z"
    }
   },
   "outputs": [],
   "source": [
    "def fncExtractDtls(results):\n",
    "    presidential = results.get(\"P\") # Only get presidential data\n",
    "    print(\"INFO!!!! Extracting State level Details\\n\")\n",
    "    f = open(\"Data Dump\\FP1_2020_USElections_StateResults_1126.txt\", \"w\", encoding=\"utf-8\")\n",
    "    for eachkey in presidential.keys():\n",
    "        stateList = list(presidential.get(eachkey).values())[0]\n",
    "        \n",
    "        for eachCandidate in stateList[1]:       # Only get the state level data\n",
    "            output = (str(stateList[0][0]) + \",\" +\n",
    "                    str(stateList[0][1]) + \",\" +\n",
    "                    str(eachCandidate[0]) + \",\" +\n",
    "                    str(eachCandidate[1]) + \",\" +\n",
    "                    str(eachCandidate[2]) + \",\" +\n",
    "                    str(eachCandidate[4]) + \"\\n\") \n",
    "            f.write(output)\n",
    "    f.close()\n",
    "    print(\"INFO!!!! State level Details Extraction Complete\\n\")\n",
    "    \n",
    "    \n",
    "    print(\"INFO!!!! Extracting County level Details\\n\")\n",
    "    f = open(\"Data Dump\\FP1_2020_USElections_CountyResults_1126.txt\", \"w\", encoding=\"utf-8\")\n",
    "    for eachkey in presidential.keys():\n",
    "        \n",
    "        asList = list(presidential.get(eachkey).values())\n",
    "        stateName = asList[0][0][0]\n",
    "        stateCount = asList[0][0][1]\n",
    "        for eachCounty in asList[1:]:\n",
    "            countyName = eachCounty[0][0]\n",
    "            countyCount = eachCounty[0][1]\n",
    "            candidates = eachCounty[1:]\n",
    "            for eachCandidate in candidates:\n",
    "                for candidateDtls in eachCandidate:\n",
    "                    output = (str(stateName) + \",\" +\n",
    "                            str(stateCount) + \",\" +\n",
    "                            str(countyName) + \",\" +\n",
    "                            str(countyCount) + \",\" +\n",
    "                            str(candidateDtls[0]) + \",\" + \n",
    "                            str(candidateDtls[1]) + \",\" +\n",
    "                            str(candidateDtls[2]) + \",\" +\n",
    "                            str(candidateDtls[4]) + \"\\n\" ) \n",
    "                    f.write(output)\n",
    "    print(\"INFO!!!! County level Details Extraction Complete\\n\")\n",
    "    f.close()\n",
    "    "
   ]
  },
  {
   "cell_type": "code",
   "execution_count": 28,
   "metadata": {
    "ExecuteTime": {
     "end_time": "2020-11-26T00:07:47.453175Z",
     "start_time": "2020-11-26T00:07:44.870646Z"
    }
   },
   "outputs": [
    {
     "name": "stdout",
     "output_type": "stream",
     "text": [
      "INFO!!!! Extracting State level Details\n",
      "\n",
      "INFO!!!! State level Details Extraction Complete\n",
      "\n",
      "INFO!!!! Extracting County level Details\n",
      "\n",
      "INFO!!!! County level Details Extraction Complete\n",
      "\n"
     ]
    }
   ],
   "source": [
    "dataUrl = 'https://graphics.thomsonreuters.com/2020-US-elex/20201103/20201103-county.json'\n",
    "resp = requests.get(dataUrl)\n",
    "if not(resp.status_code == 200):\n",
    "    print (\"URL response not ok \" + resp.status_code)\n",
    "else:\n",
    "    results = resp.json()\n",
    "    fncExtractDtls(results)"
   ]
  },
  {
   "cell_type": "code",
   "execution_count": null,
   "metadata": {},
   "outputs": [],
   "source": [
    " fncExtractDtls(results)"
   ]
  }
 ],
 "metadata": {
  "kernelspec": {
   "display_name": "Python 3",
   "language": "python",
   "name": "python3"
  },
  "language_info": {
   "codemirror_mode": {
    "name": "ipython",
    "version": 3
   },
   "file_extension": ".py",
   "mimetype": "text/x-python",
   "name": "python",
   "nbconvert_exporter": "python",
   "pygments_lexer": "ipython3",
   "version": "3.7.9"
  }
 },
 "nbformat": 4,
 "nbformat_minor": 4
}
